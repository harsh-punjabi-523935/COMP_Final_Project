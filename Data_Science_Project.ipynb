{
 "cells": [
  {
   "cell_type": "markdown",
   "metadata": {},
   "source": [
    "Group - 9 Members : Harsh Punjabi, Himanshu Gidhvani, Mohit Shah"
   ]
  },
  {
   "cell_type": "markdown",
   "metadata": {},
   "source": [
    "2)\tRead the daily confirmed cases and deaths into two dataframes can be found at this GitHub page:\n",
    "a)\tconfirmed_cases_url = “https://raw.githubusercontent.com/CSSEGISandData/COVID-19/master/csse_covid_19_data/csse_covid_19_time_series/time_series_covid19_confirmed_global.csv”\n",
    "b)\tdeaths_url = “https://raw.githubusercontent.com/CSSEGISandData/COVID-19/master/csse_covid_19_data/csse_covid_19_time_series/time_series_covid19_deaths_global.csv”"
   ]
  },
  {
   "cell_type": "code",
   "execution_count": 2,
   "metadata": {},
   "outputs": [],
   "source": [
    "#importing pandas library as pd\n",
    "import pandas as pd\n",
    "\n",
    "# Importing csv file of confirmed cases and death cases from url\n",
    "confirmed_cases_global_url = \"https://raw.githubusercontent.com/CSSEGISandData/COVID-19/master/csse_covid_19_data/csse_covid_19_time_series/time_series_covid19_confirmed_global.csv\"\n",
    "deaths_global_url = \"https://raw.githubusercontent.com/CSSEGISandData/COVID-19/master/csse_covid_19_data/csse_covid_19_time_series/time_series_covid19_deaths_global.csv\"\n",
    "\n",
    "# Converting csv file into dataframe\n",
    "confirmed_cases_global_df = pd.read_csv(confirmed_cases_global_url)\n",
    "deaths_global_df = pd.read_csv(deaths_global_url)"
   ]
  },
  {
   "cell_type": "markdown",
   "metadata": {},
   "source": [
    "3)\tUse pandas to create a dataframe that aggregates and sums both confirmed cases and deaths on a global level (daily total of all the countries). NOTE, the CSV contains data country and state/province wise."
   ]
  },
  {
   "cell_type": "code",
   "execution_count": null,
   "metadata": {},
   "outputs": [],
   "source": [
    "# Getting confirmed cases and deaths for all countries and dropping latitude and longitude as it's not needed\n",
    "global_confirmed_cases = confirmed_cases_global_df.groupby('Country/Region').sum().drop(['Lat', 'Long'], axis=1)\n",
    "global_deaths = deaths_global_df.groupby('Country/Region').sum().drop(['Lat', 'Long'], axis=1)\n",
    "\n",
    "# Merging both the dataframes in one as Global Data\n",
    "global_data_df = pd.DataFrame({'Confirmed': global_confirmed_cases.sum(), 'Deaths': global_deaths.sum()})\n",
    "\n",
    "# Following is the Global Confirmed Cases Country and Date wise\n",
    "global_confirmed_cases\n",
    "\n",
    "# Following is the Global Deaths Country and Date wise\n",
    "global_deaths"
   ]
  },
  {
   "cell_type": "markdown",
   "metadata": {},
   "source": [
    "4)\tFor any given date, you should be able to create/generate a dataframe of the total confirmed cases and deaths for all the countries in the world (Hint: a dictionary where the date is the key, and the corresponding value is a dataframe)."
   ]
  },
  {
   "cell_type": "code",
   "execution_count": null,
   "metadata": {},
   "outputs": [],
   "source": [
    "# In the following code we have changed the date format\n",
    "global_data_df.index = pd.to_datetime(global_data_df.index)\n",
    "global_data_df.index = global_data_df.index.strftime(\"%m/%d/%y\")\n",
    "\n",
    "global_data_df"
   ]
  },
  {
   "cell_type": "code",
   "execution_count": null,
   "metadata": {},
   "outputs": [],
   "source": [
    "data_dict = {}\n",
    "dates = confirmed_cases_global_df.columns[4:]\n",
    "\n",
    "# In the following code we have created Dictionary of Confirmed Cases and Deaths Globally\n",
    "for date in dates:\n",
    "    global_cases = confirmed_cases_global_df.groupby('Country/Region')[date].sum().sum()\n",
    "    global_deaths = deaths_global_df.groupby('Country/Region')[date].sum().sum()\n",
    "    data_dict[date] = pd.DataFrame({'Confirmed Cases': global_cases, 'Deaths': global_deaths}, index=[0])\n",
    "\n",
    "# Following is the Validation for Date Format.\n",
    "def validate_date_format(user_date):\n",
    "    try:\n",
    "        datetime.strptime(user_date, \"%m/%d/%y\")\n",
    "        return True\n",
    "    except ValueError:\n",
    "        return False\n",
    "\n",
    "input_date = input(\"Enter date in this format: m/d/yy (For Example:- 1/21/20)\\n\")\n",
    "\n",
    "if(validate_date_format(input_date)):\n",
    "  if(input_date in data_dict):\n",
    "    print(data_dict[input_date])\n",
    "  else:\n",
    "    print(\"Dataset does not have this date\")\n",
    "else:\n",
    "  print(\"Please Enter Date in Valid Format.\")"
   ]
  },
  {
   "cell_type": "markdown",
   "metadata": {},
   "source": [
    "5)\tExtract the total confirmed cases and deaths for Saskatchewan into a dataframe."
   ]
  },
  {
   "cell_type": "code",
   "execution_count": null,
   "metadata": {},
   "outputs": [],
   "source": [
    "# Following is the date wise confirmed cases and deaths for Saskatchewan Province\n",
    "saskatchewan_cases = confirmed_cases_global_df[confirmed_cases_global_df['Province/State'] == 'Saskatchewan']\n",
    "saskatchewan_deaths = deaths_global_df[deaths_global_df['Province/State'] == 'Saskatchewan']"
   ]
  },
  {
   "cell_type": "code",
   "execution_count": null,
   "metadata": {},
   "outputs": [],
   "source": [
    "saskatchewan_cases"
   ]
  },
  {
   "cell_type": "code",
   "execution_count": null,
   "metadata": {},
   "outputs": [],
   "source": [
    "saskatchewan_deaths"
   ]
  },
  {
   "cell_type": "markdown",
   "metadata": {},
   "source": [
    "6)\tResearch and pick two stocks from the list of following industries (it will be used in the next step):\n",
    "a)\tIT Sector\n",
    "b)\tTravel sector\n",
    "c)\tThe Real Estate sector.\n",
    "d)\tPrecious metals (Gold, Silver, Platinum, etc)"
   ]
  },
  {
   "cell_type": "markdown",
   "metadata": {},
   "source": [
    "Apple and Jonson and Joson Stocks are considered for this project."
   ]
  },
  {
   "cell_type": "markdown",
   "metadata": {},
   "source": [
    "7)\tUse AlphaVantage (use the API Key = 'TC54JI2GWZOZ8I0J') to get the daily high and low prices for your selected stocks."
   ]
  },
  {
   "cell_type": "code",
   "execution_count": null,
   "metadata": {},
   "outputs": [],
   "source": [
    "import requests\n",
    "api_key = 'TC54JI2GWZOZ8I0J'\n",
    "symbol_aapl = 'AAPL'  # Apple\n",
    "symbol_jnj = 'JNJ'  # Johnson and Johnson\n",
    "\n",
    "# Function to get stock data\n",
    "def get_stock_data(symbol):\n",
    "    url = f'https://www.alphavantage.co/query?function=TIME_SERIES_DAILY&symbol={symbol}&outputsize=full&apikey=TC54JI2GWZOZ8I0J'\n",
    "\n",
    "    response = requests.get(url)\n",
    "    data = response.json()\n",
    "    return data['Time Series (Daily)']\n",
    "\n",
    "\n",
    "# Get stock data for AAPL and Johnson and Johnson\n",
    "aapl_data = get_stock_data(symbol_aapl)\n",
    "jnj_data = get_stock_data(symbol_jnj)\n",
    "\n",
    "\n",
    "# Convert stock data to dataframes\n",
    "aapl_df = pd.DataFrame(aapl_data).T[['2. high', '3. low']].rename(columns={'2. high': 'AAPL_High', '3. low': 'AAPL_Low'})\n",
    "jnj_df = pd.DataFrame(jnj_data).T[['2. high', '3. low']].rename(columns={'2. high': 'JNJ_High', '3. low': 'JNJ_Low'})\n",
    "\n",
    "\n",
    "jnj_df.index = pd.to_datetime(jnj_df.index)\n",
    "jnj_df.index = jnj_df.index.strftime(\"%m/%d/%y\")\n",
    "print(jnj_df.head())\n",
    "\n",
    "\n",
    "aapl_df.index = pd.to_datetime(aapl_df.index)\n",
    "aapl_df.index = aapl_df.index.strftime(\"%m/%d/%y\")\n",
    "print(aapl_df.head())"
   ]
  },
  {
   "cell_type": "markdown",
   "metadata": {},
   "source": [
    "7)\tUse AlphaVantage (use the API Key = 'TC54JI2GWZOZ8I0J') to get the daily high and low prices for your selected stocks."
   ]
  },
  {
   "cell_type": "code",
   "execution_count": null,
   "metadata": {},
   "outputs": [],
   "source": [
    "global_data_df = global_data_df.sort_index()\n",
    "global_data_df = global_data_df[global_data_df['AAPL_High'].notna()]\n",
    "global_data_df = global_data_df[global_data_df['JNJ_High'].notna()]\n",
    "global_data_df = global_data_df[global_data_df['Confirmed'].notna()]\n",
    "\n",
    "global_data_df.index = pd.to_datetime(global_data_df.index)\n",
    "global_data_df.index = global_data_df.index.strftime(\"%Y-%m-%d\")\n",
    "\n",
    "global_data_df = global_data_df.sort_index()"
   ]
  },
  {
   "cell_type": "markdown",
   "metadata": {},
   "source": [
    "8)\tAppend that info to the data frame created in step 3."
   ]
  },
  {
   "cell_type": "code",
   "execution_count": null,
   "metadata": {},
   "outputs": [],
   "source": [
    "# Concatenate stock data to global_data_df\n",
    "\n",
    "global_data_df = pd.concat([global_data_df, aapl_df, jnj_df], axis=1, sort=True)\n",
    "# global_data_with_jnj_df = pd.concat([global_data_df,jnj_df], axis=1, sort = True)"
   ]
  },
  {
   "cell_type": "markdown",
   "metadata": {},
   "source": [
    "9)\tVisualizations: For all the graphs, there should be appropriate titles, axis labels, font sizes.\n",
    "a)\tFor the year 2022, create an appropriate graph(s) that shows the effect of COVID-19 on selected stock prices. Highlight on the graph if you notice any sharp change while comparing values. Consider the data range when you are comparing values in the graph. Explain why you chose the graph(s). You may use Matplotlib, Seaborn or Plotly library for graphs. \n",
    "b)\tCreate a horizontal bar chart of the top 20 countries according to the confirmed COVID-19 numbers for a given date. The bars should be sorted in ascending order. Use a colormap. \n",
    "\n"
   ]
  },
  {
   "cell_type": "code",
   "execution_count": null,
   "metadata": {},
   "outputs": [],
   "source": [
    "import matplotlib.pyplot as plt\n",
    "import matplotlib\n",
    "\n",
    "# Filter data for the year 2022\n",
    "start_date = '2022-01-01'\n",
    "end_date = '2022-12-31'\n",
    "filtered_data = global_data_df.loc[start_date:end_date]\n",
    "\n",
    "print(filtered_data)\n",
    "# Plotting\n",
    "fig, ax1 = plt.subplots(figsize=(12, 6))\n",
    "\n",
    "filtered_data[\"AAPL_High\"] = filtered_data.AAPL_High.astype(float)\n",
    "filtered_data[\"AAPL_Low\"] = filtered_data.AAPL_Low.astype(float)\n",
    "filtered_data[\"JNJ_High\"] = filtered_data.JNJ_High.astype(float)\n",
    "filtered_data[\"JNJ_Low\"] = filtered_data.JNJ_Low.astype(float)\n",
    "\n",
    "\n",
    "# Plotting stock prices\n",
    "ax1.plot(filtered_data.index, filtered_data['AAPL_High'], label='AAPL High', color='blue')\n",
    "ax1.plot(filtered_data.index, filtered_data['AAPL_Low'], label='AAPL Low', color='lightblue')\n",
    "ax1.plot(filtered_data.index, filtered_data['JNJ_High'], label='JNJ High', color='green')\n",
    "ax1.plot(filtered_data.index, filtered_data['JNJ_Low'], label='JNJ Low', color='lightgreen')\n",
    "\n",
    "\n",
    "# Adding second y-axis for COVID-19 data\n",
    "ax2 = ax1.twinx()\n",
    "ax2.plot(filtered_data.index, filtered_data['Confirmed'], label='Confirmed', linestyle='dashed', color='red')\n",
    "ax2.plot(filtered_data.index, filtered_data['Deaths'], label='Deaths', linestyle='dashed', color='darkred')\n",
    "ax2.get_yaxis().set_major_formatter(matplotlib.ticker.FuncFormatter(lambda x, p: format(int(x), ',')))\n",
    "\n",
    "# Title and labels\n",
    "plt.title('Effect of COVID-19 on Stock Prices (2022)')\n",
    "ax1.set_xlabel('Date')\n",
    "ax1.set_ylabel('Stock Prices')\n",
    "ax2.set_ylabel('COVID-19 Cases/Deaths')\n",
    "\n",
    "\n",
    "# Legends\n",
    "ax1.legend(loc='upper left')\n",
    "ax2.legend(loc='upper right')\n",
    "\n",
    "# Show plot\n",
    "plt.show()\n"
   ]
  },
  {
   "cell_type": "code",
   "execution_count": null,
   "metadata": {},
   "outputs": [],
   "source": [
    "chosen_date = '9/30/22'  # Example date\n",
    "\n",
    "# Group data by country and select the chosen date\n",
    "date_data = confirmed_cases_global_df.groupby('Country/Region')[chosen_date].sum()\n",
    "\n",
    "# Sort data by the chosen date in ascending order and get top 20 countries\n",
    "top_20_countries = date_data.nlargest(20)\n",
    "\n",
    "# Create a horizontal bar plot\n",
    "plt.figure(figsize=(10, 8))\n",
    "top_20_countries.sort_values().plot(kind='barh', color='skyblue')\n",
    "plt.xlabel('Confirmed Cases')\n",
    "plt.ylabel('Country')\n",
    "plt.title(f'Top 20 Countries by Confirmed COVID-19 Cases on {chosen_date}')\n",
    "plt.grid(axis='x')\n",
    "plt.tight_layout()\n",
    "\n",
    "# Show the plot\n",
    "plt.show()"
   ]
  }
 ],
 "metadata": {
  "kernelspec": {
   "display_name": "Python 3",
   "language": "python",
   "name": "python3"
  },
  "language_info": {
   "codemirror_mode": {
    "name": "ipython",
    "version": 3
   },
   "file_extension": ".py",
   "mimetype": "text/x-python",
   "name": "python",
   "nbconvert_exporter": "python",
   "pygments_lexer": "ipython3",
   "version": "3.11.5"
  }
 },
 "nbformat": 4,
 "nbformat_minor": 2
}
