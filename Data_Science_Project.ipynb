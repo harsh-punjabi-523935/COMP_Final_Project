{
 "cells": [
  {
   "cell_type": "markdown",
   "metadata": {},
   "source": [
    "Group - 9 Members : Harsh Punjabi, Himanshu Gidhvani, Mohit Shah"
   ]
  },
  {
   "cell_type": "markdown",
   "metadata": {},
   "source": [
    "2)\tRead the daily confirmed cases and deaths into two dataframes can be found at this GitHub page:\n",
    "a)\tconfirmed_cases_url = “https://raw.githubusercontent.com/CSSEGISandData/COVID-19/master/csse_covid_19_data/csse_covid_19_time_series/time_series_covid19_confirmed_global.csv”\n",
    "b)\tdeaths_url = “https://raw.githubusercontent.com/CSSEGISandData/COVID-19/master/csse_covid_19_data/csse_covid_19_time_series/time_series_covid19_deaths_global.csv”"
   ]
  },
  {
   "cell_type": "code",
   "execution_count": 2,
   "metadata": {},
   "outputs": [],
   "source": [
    "#importing pandas library as pd\n",
    "import pandas as pd\n",
    "\n",
    "# Importing csv file of confirmed cases and death cases from url\n",
    "confirmed_cases_global_url = \"https://raw.githubusercontent.com/CSSEGISandData/COVID-19/master/csse_covid_19_data/csse_covid_19_time_series/time_series_covid19_confirmed_global.csv\"\n",
    "deaths_global_url = \"https://raw.githubusercontent.com/CSSEGISandData/COVID-19/master/csse_covid_19_data/csse_covid_19_time_series/time_series_covid19_deaths_global.csv\"\n",
    "\n",
    "# Converting csv file into dataframe\n",
    "confirmed_cases_global_df = pd.read_csv(confirmed_cases_global_url)\n",
    "deaths_global_df = pd.read_csv(deaths_global_url)"
   ]
  },
  {
   "cell_type": "markdown",
   "metadata": {},
   "source": [
    "3)\tUse pandas to create a dataframe that aggregates and sums both confirmed cases and deaths on a global level (daily total of all the countries). NOTE, the CSV contains data country and state/province wise."
   ]
  },
  {
   "cell_type": "code",
   "execution_count": null,
   "metadata": {},
   "outputs": [],
   "source": [
    "# Getting confirmed cases and deaths for all countries and dropping latitude and longitude as it's not needed\n",
    "global_confirmed_cases = confirmed_cases_global_df.groupby('Country/Region').sum().drop(['Lat', 'Long'], axis=1)\n",
    "global_deaths = deaths_global_df.groupby('Country/Region').sum().drop(['Lat', 'Long'], axis=1)\n",
    "\n",
    "# Merging both the dataframes in one as Global Data\n",
    "global_data_df = pd.DataFrame({'Confirmed': global_confirmed_cases.sum(), 'Deaths': global_deaths.sum()})\n",
    "\n",
    "# Following is the Global Confirmed Cases Country and Date wise\n",
    "global_confirmed_cases\n",
    "\n",
    "# Following is the Global Deaths Country and Date wise\n",
    "global_deaths"
   ]
  },
  {
   "cell_type": "markdown",
   "metadata": {},
   "source": [
    "4)\tFor any given date, you should be able to create/generate a dataframe of the total confirmed cases and deaths for all the countries in the world (Hint: a dictionary where the date is the key, and the corresponding value is a dataframe)."
   ]
  },
  {
   "cell_type": "code",
   "execution_count": null,
   "metadata": {},
   "outputs": [],
   "source": [
    "# In the following code we have changed the date format\n",
    "global_data_df.index = pd.to_datetime(global_data_df.index)\n",
    "global_data_df.index = global_data_df.index.strftime(\"%m/%d/%y\")\n",
    "\n",
    "global_data_df"
   ]
  },
  {
   "cell_type": "code",
   "execution_count": null,
   "metadata": {},
   "outputs": [],
   "source": [
    "data_dict = {}\n",
    "dates = confirmed_cases_global_df.columns[4:]\n",
    "\n",
    "# In the following code we have created Dictionary of Confirmed Cases and Deaths Globally\n",
    "for date in dates:\n",
    "    global_cases = confirmed_cases_global_df.groupby('Country/Region')[date].sum().sum()\n",
    "    global_deaths = deaths_global_df.groupby('Country/Region')[date].sum().sum()\n",
    "    data_dict[date] = pd.DataFrame({'Confirmed Cases': global_cases, 'Deaths': global_deaths}, index=[0])\n",
    "\n",
    "# Following is the Validation for Date Format.\n",
    "def validate_date_format(user_date):\n",
    "    try:\n",
    "        datetime.strptime(user_date, \"%m/%d/%y\")\n",
    "        return True\n",
    "    except ValueError:\n",
    "        return False\n",
    "\n",
    "input_date = input(\"Enter date in this format: m/d/yy (For Example:- 1/21/20)\\n\")\n",
    "\n",
    "if(validate_date_format(input_date)):\n",
    "  if(input_date in data_dict):\n",
    "    print(data_dict[input_date])\n",
    "  else:\n",
    "    print(\"Dataset does not have this date\")\n",
    "else:\n",
    "  print(\"Please Enter Date in Valid Format.\")"
   ]
  },
  {
   "cell_type": "markdown",
   "metadata": {},
   "source": [
    "5)\tExtract the total confirmed cases and deaths for Saskatchewan into a dataframe."
   ]
  },
  {
   "cell_type": "code",
   "execution_count": null,
   "metadata": {},
   "outputs": [],
   "source": [
    "# Following is the date wise confirmed cases and deaths for Saskatchewan Province\n",
    "saskatchewan_cases = confirmed_cases_global_df[confirmed_cases_global_df['Province/State'] == 'Saskatchewan']\n",
    "saskatchewan_deaths = deaths_global_df[deaths_global_df['Province/State'] == 'Saskatchewan']"
   ]
  },
  {
   "cell_type": "code",
   "execution_count": null,
   "metadata": {},
   "outputs": [],
   "source": [
    "saskatchewan_cases"
   ]
  },
  {
   "cell_type": "code",
   "execution_count": null,
   "metadata": {},
   "outputs": [],
   "source": [
    "saskatchewan_deaths"
   ]
  }
 ],
 "metadata": {
  "kernelspec": {
   "display_name": "Python 3",
   "language": "python",
   "name": "python3"
  },
  "language_info": {
   "codemirror_mode": {
    "name": "ipython",
    "version": 3
   },
   "file_extension": ".py",
   "mimetype": "text/x-python",
   "name": "python",
   "nbconvert_exporter": "python",
   "pygments_lexer": "ipython3",
   "version": "3.11.5"
  }
 },
 "nbformat": 4,
 "nbformat_minor": 2
}
